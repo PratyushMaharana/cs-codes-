{
  "nbformat": 4,
  "nbformat_minor": 0,
  "metadata": {
    "colab": {
      "provenance": [],
      "include_colab_link": true
    },
    "kernelspec": {
      "name": "python3",
      "display_name": "Python 3"
    },
    "language_info": {
      "name": "python"
    }
  },
  "cells": [
    {
      "cell_type": "markdown",
      "metadata": {
        "id": "view-in-github",
        "colab_type": "text"
      },
      "source": [
        "<a href=\"https://colab.research.google.com/github/catastropiyush/cs-codes-/blob/main/cs_11_codes.ipynb\" target=\"_parent\"><img src=\"https://colab.research.google.com/assets/colab-badge.svg\" alt=\"Open In Colab\"/></a>"
      ]
    },
    {
      "cell_type": "code",
      "execution_count": null,
      "metadata": {
        "colab": {
          "base_uri": "https://localhost:8080/"
        },
        "id": "f8oCt8GfbeT1",
        "outputId": "ab799a6a-3b31-41a3-b2e0-e96314623bc6"
      },
      "outputs": [
        {
          "output_type": "stream",
          "name": "stdout",
          "text": [
            "Enter a number: 3456\n",
            "Not a Prime Number\n"
          ]
        }
      ],
      "source": [
        "num = int(input(\"Enter a number: \"))\n",
        "if num > 1:\n",
        "    is_prime = True\n",
        "    i = 2\n",
        "    while i < num:\n",
        "        if num % i == 0:\n",
        "            is_prime = False\n",
        "            break\n",
        "        i = i + 1\n",
        "    if is_prime:\n",
        "        print(\"Prime Number\")\n",
        "    else:\n",
        "        print(\"Not a Prime Number\")\n",
        "else:\n",
        "    print(\"Not a Prime Number\")\n"
      ]
    },
    {
      "cell_type": "markdown",
      "source": [
        "## **Sorting a list in python without sort function using bubble sort**"
      ],
      "metadata": {
        "id": "T8I04RO_exmM"
      }
    },
    {
      "source": [
        "def bubble_sort(arr):\n",
        "    n = len(arr)\n",
        "    # Traverse through all elements in the list\n",
        "    for i in range(n):\n",
        "        # Last i elements are already in place\n",
        "        for j in range(0, n-i-1):\n",
        "            # Traverse the list from 0 to n-i-1\n",
        "            # Swap if the element found is greater\n",
        "            # than the next element\n",
        "            if arr[j] > arr[j+1]:\n",
        "                #Swap code\n",
        "                arr[j], arr[j+1] = arr[j+1], arr[j]\n",
        "\n",
        "\n",
        "my_list = [64, 34, 25, 12, 22, 11, 90]\n",
        "bubble_sort(my_list)\n",
        "print(\"Sorted array is:\", my_list)"
      ],
      "cell_type": "code",
      "metadata": {
        "colab": {
          "base_uri": "https://localhost:8080/"
        },
        "id": "2UMM842cfWRn",
        "outputId": "180b8a43-83b5-4fdd-c710-78ca3d6d3937"
      },
      "execution_count": null,
      "outputs": [
        {
          "output_type": "stream",
          "name": "stdout",
          "text": [
            "Sorted array is: [11, 12, 22, 25, 34, 64, 90]\n"
          ]
        }
      ]
    },
    {
      "cell_type": "code",
      "source": [],
      "metadata": {
        "id": "jFmUCUosfhai"
      },
      "execution_count": null,
      "outputs": []
    },
    {
      "cell_type": "markdown",
      "source": [],
      "metadata": {
        "id": "eDZxiPtFeM_8"
      }
    }
  ]
}