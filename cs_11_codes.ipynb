{
  "nbformat": 4,
  "nbformat_minor": 0,
  "metadata": {
    "colab": {
      "provenance": [],
      "include_colab_link": true
    },
    "kernelspec": {
      "name": "python3",
      "display_name": "Python 3"
    },
    "language_info": {
      "name": "python"
    }
  },
  "cells": [
    {
      "cell_type": "markdown",
      "metadata": {
        "id": "view-in-github",
        "colab_type": "text"
      },
      "source": [
      ],
      "metadata": {
        "id": "T8I04RO_exmM"
      }
    },
    {
      "source": [
        "def bubble_sort(arr):\n",
        "    n = len(arr)\n",
        "    # Traverse through all elements in the list\n",
        "    for i in range(n):\n",
        "        # Last i elements are already in place\n",
        "        for j in range(0, n-i-1):\n",
        "            # Traverse the list from 0 to n-i-1\n",
        "            # Swap if the element found is greater\n",
        "            # than the next element\n",
        "            if arr[j] > arr[j+1]:\n",
        "                #Swap code\n",
        "                arr[j], arr[j+1] = arr[j+1], arr[j]\n",
        "\n",
        "\n",
        "my_list = [64, 34, 25, 12, 22, 11, 90]\n",
        "bubble_sort(my_list)\n",
        "print(\"Sorted array is:\", my_list)"
      ],
      "cell_type": "code",
      "metadata": {

      },
      "execution_count": null,
      "outputs": [
        {
          "output_type": "stream",
          "name": "stdout",
          "text": [
            "Sorted array is: [11, 12, 22, 25, 34, 64, 90]\n"
          ]
        }
      ]
    },
    {
    }
  ]
}